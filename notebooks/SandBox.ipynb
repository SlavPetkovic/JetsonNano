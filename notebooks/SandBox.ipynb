{
 "cells": [
  {
   "cell_type": "code",
   "execution_count": 11,
   "metadata": {
    "collapsed": true
   },
   "outputs": [],
   "source": [
    "#-----------------------------------------------------------------------------------------------------------------------\n",
    "# Reading data from sqlite\n",
    "#-----------------------------------------------------------------------------------------------------------------------\n",
    "import sqlite3\n",
    "import pandas as pd\n",
    "\n",
    "# #Establishing connection with sqlite database\n",
    "conn = sqlite3.connect('../Sensors.db')\n",
    "curs = conn.cursor()\n",
    "\n",
    "df = pd.read_sql_query(\"SELECT * FROM BME_DATA\", conn)\n",
    "df.drop('id', axis=1, inplace=True)\n",
    "df.rename(columns={'TIME_STAMP': 'TimeStamp',\n",
    "                   'TEMPERATURE': 'Temperature',\n",
    "                   'GAS':'Gas',\n",
    "                   'HUMIDITY':'Humidity',\n",
    "                   'PRESSURE':'Pressure',\n",
    "                   'ALTITUDE':'Altitude'\n",
    "                   }, inplace=True)\n",
    "df.head()\n",
    "\n",
    "df['TimeStamp'] = pd.to_datetime(df['TimeStamp'], format='%Y-%m-%d %H:%M:%S.%f')\n",
    "df = df.resample('H', on='TimeStamp').agg({'Temperature':'mean', 'Gas':'mean','Humidity':'mean','Pressure':'mean','Altitude':'mean'})\n",
    "df.reset_index(inplace = True)\n",
    "df['Temperature'] = (df['Temperature'] * 9/5) + 32\n",
    "df = df.round({'Temperature': 2, 'Gas': 2, 'Humidity': 2, 'Pressure':2, 'Altitude': 2})\n",
    "df.head()\n",
    "df.to_csv('BackUp.csv')"
   ]
  },
  {
   "cell_type": "code",
   "execution_count": 15,
   "outputs": [
    {
     "data": {
      "text/plain": "               TimeStamp  Temperature        Gas  Humidity  Pressure  Altitude\n0    2021-01-12 19:00:00        69.21  355355.55     40.13    984.80    240.38\n1    2021-01-12 20:00:00        67.62  541956.52     40.84    984.77    239.90\n2    2021-01-12 21:00:00        67.18  579178.53     40.63    984.75    239.96\n3    2021-01-12 22:00:00        66.60  577062.79     40.57    984.82    239.43\n4    2021-01-12 23:00:00        66.22  578171.79     39.79    984.44    242.66\n..                   ...          ...        ...       ...       ...       ...\n495  2021-02-02 10:00:00        68.62  710860.80     30.13    976.68    309.01\n496  2021-02-02 11:00:00        69.88  695186.09     29.82    976.90    307.09\n497  2021-02-02 12:00:00        69.09  688382.94     30.51    976.62    309.53\n498  2021-02-02 13:00:00        67.16  733037.09     31.00    976.23    312.88\n499  2021-02-02 14:00:00        69.70  749485.82     28.80    975.84    316.22\n\n[500 rows x 6 columns]",
      "text/html": "<div>\n<style scoped>\n    .dataframe tbody tr th:only-of-type {\n        vertical-align: middle;\n    }\n\n    .dataframe tbody tr th {\n        vertical-align: top;\n    }\n\n    .dataframe thead th {\n        text-align: right;\n    }\n</style>\n<table border=\"1\" class=\"dataframe\">\n  <thead>\n    <tr style=\"text-align: right;\">\n      <th></th>\n      <th>TimeStamp</th>\n      <th>Temperature</th>\n      <th>Gas</th>\n      <th>Humidity</th>\n      <th>Pressure</th>\n      <th>Altitude</th>\n    </tr>\n  </thead>\n  <tbody>\n    <tr>\n      <th>0</th>\n      <td>2021-01-12 19:00:00</td>\n      <td>69.21</td>\n      <td>355355.55</td>\n      <td>40.13</td>\n      <td>984.80</td>\n      <td>240.38</td>\n    </tr>\n    <tr>\n      <th>1</th>\n      <td>2021-01-12 20:00:00</td>\n      <td>67.62</td>\n      <td>541956.52</td>\n      <td>40.84</td>\n      <td>984.77</td>\n      <td>239.90</td>\n    </tr>\n    <tr>\n      <th>2</th>\n      <td>2021-01-12 21:00:00</td>\n      <td>67.18</td>\n      <td>579178.53</td>\n      <td>40.63</td>\n      <td>984.75</td>\n      <td>239.96</td>\n    </tr>\n    <tr>\n      <th>3</th>\n      <td>2021-01-12 22:00:00</td>\n      <td>66.60</td>\n      <td>577062.79</td>\n      <td>40.57</td>\n      <td>984.82</td>\n      <td>239.43</td>\n    </tr>\n    <tr>\n      <th>4</th>\n      <td>2021-01-12 23:00:00</td>\n      <td>66.22</td>\n      <td>578171.79</td>\n      <td>39.79</td>\n      <td>984.44</td>\n      <td>242.66</td>\n    </tr>\n    <tr>\n      <th>...</th>\n      <td>...</td>\n      <td>...</td>\n      <td>...</td>\n      <td>...</td>\n      <td>...</td>\n      <td>...</td>\n    </tr>\n    <tr>\n      <th>495</th>\n      <td>2021-02-02 10:00:00</td>\n      <td>68.62</td>\n      <td>710860.80</td>\n      <td>30.13</td>\n      <td>976.68</td>\n      <td>309.01</td>\n    </tr>\n    <tr>\n      <th>496</th>\n      <td>2021-02-02 11:00:00</td>\n      <td>69.88</td>\n      <td>695186.09</td>\n      <td>29.82</td>\n      <td>976.90</td>\n      <td>307.09</td>\n    </tr>\n    <tr>\n      <th>497</th>\n      <td>2021-02-02 12:00:00</td>\n      <td>69.09</td>\n      <td>688382.94</td>\n      <td>30.51</td>\n      <td>976.62</td>\n      <td>309.53</td>\n    </tr>\n    <tr>\n      <th>498</th>\n      <td>2021-02-02 13:00:00</td>\n      <td>67.16</td>\n      <td>733037.09</td>\n      <td>31.00</td>\n      <td>976.23</td>\n      <td>312.88</td>\n    </tr>\n    <tr>\n      <th>499</th>\n      <td>2021-02-02 14:00:00</td>\n      <td>69.70</td>\n      <td>749485.82</td>\n      <td>28.80</td>\n      <td>975.84</td>\n      <td>316.22</td>\n    </tr>\n  </tbody>\n</table>\n<p>500 rows × 6 columns</p>\n</div>"
     },
     "execution_count": 15,
     "metadata": {},
     "output_type": "execute_result"
    }
   ],
   "source": [
    "#-----------------------------------------------------------------------------------------------------------------------\n",
    "# Pushing data into Azure mysql\n",
    "#-----------------------------------------------------------------------------------------------------------------------\n",
    "# Importing Dependencies\n",
    "import mysql.connector\n",
    "import pandas as pd\n",
    "import json\n",
    "import sqlalchemy\n",
    "from sqlalchemy import create_engine, MetaData, Table\n",
    "from mysql.connector import Error\n",
    "\n",
    "df = pd.read_csv('../data/BackUp.csv')\n",
    "df.drop('Unnamed: 0', axis=1, inplace=True)\n",
    "\n",
    "with open(\"../paramteres/config.json\") as config:\n",
    "    param = json.load(config)\n",
    "\n",
    "# Connecting to data warehouse\n",
    "try:\n",
    "    engine = sqlalchemy.create_engine('mysql+mysqlconnector://{0}:{1}@{2}/{3}'.\n",
    "                                      format(param['MyDemoServer'][0]['user'],\n",
    "                                             param['MyDemoServer'][0]['password'],\n",
    "                                             param['MyDemoServer'][0]['host'],\n",
    "                                             param['MyDemoServer'][0]['database']), echo=False)\n",
    "\n",
    "    # Cleaning the data from existing tables MetricValues and Metrics\n",
    "    Epi_con = engine.connect()\n",
    "    if Epi_con.connect():\n",
    "        try:\n",
    "            #Epi_con.execute(\"\"\"TRUNCATE TABLE Sessions\"\"\")\n",
    "            df.to_sql('sensordata', con=Epi_con, if_exists='append',chunksize=1000, index=False)\n",
    "            Epi_con.close()\n",
    "            engine.dispose()\n",
    "        except OSError as e:\n",
    "            print(e)\n",
    "except OSError as e:\n",
    "    print(e)"
   ],
   "metadata": {
    "collapsed": false,
    "pycharm": {
     "name": "#%%\n"
    }
   }
  },
  {
   "cell_type": "code",
   "execution_count": 1,
   "outputs": [
    {
     "data": {
      "text/plain": "'2021-10-03T16:39:13'"
     },
     "execution_count": 1,
     "metadata": {},
     "output_type": "execute_result"
    }
   ],
   "source": [
    "from datetime import datetime\n",
    "import requests\n",
    "import json\n",
    "\n",
    "now = datetime.strftime(\n",
    "    datetime.now(),\n",
    "    \"%Y-%m-%dT%H:%M:%S\")\n",
    "now"
   ],
   "metadata": {
    "collapsed": false,
    "pycharm": {
     "name": "#%%\n"
    }
   }
  }
 ],
 "metadata": {
  "kernelspec": {
   "display_name": "Python 3",
   "language": "python",
   "name": "python3"
  },
  "language_info": {
   "codemirror_mode": {
    "name": "ipython",
    "version": 2
   },
   "file_extension": ".py",
   "mimetype": "text/x-python",
   "name": "python",
   "nbconvert_exporter": "python",
   "pygments_lexer": "ipython2",
   "version": "2.7.6"
  }
 },
 "nbformat": 4,
 "nbformat_minor": 0
}