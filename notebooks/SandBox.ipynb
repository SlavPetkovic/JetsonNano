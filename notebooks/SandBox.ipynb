{
 "cells": [
  {
   "cell_type": "code",
   "execution_count": 5,
   "metadata": {
    "collapsed": true
   },
   "outputs": [
    {
     "data": {
      "text/plain": "            TimeStamp  Temperature            Gas   Humidity    Pressure  \\\n0 2021-01-12 19:00:00    20.673344  355355.546198  40.131398  984.801881   \n1 2021-01-12 20:00:00    19.789287  541956.520300  40.835244  984.766667   \n2 2021-01-12 21:00:00    19.545680  579178.531633  40.634626  984.751667   \n3 2021-01-12 22:00:00    19.219509  577062.787176  40.569236  984.820396   \n4 2021-01-12 23:00:00    19.012534  578171.792575  39.787807  984.439782   \n\n     Altitude  \n0  240.378577  \n1  239.895394  \n2  239.959150  \n3  239.426194  \n4  242.660082  ",
      "text/html": "<div>\n<style scoped>\n    .dataframe tbody tr th:only-of-type {\n        vertical-align: middle;\n    }\n\n    .dataframe tbody tr th {\n        vertical-align: top;\n    }\n\n    .dataframe thead th {\n        text-align: right;\n    }\n</style>\n<table border=\"1\" class=\"dataframe\">\n  <thead>\n    <tr style=\"text-align: right;\">\n      <th></th>\n      <th>TimeStamp</th>\n      <th>Temperature</th>\n      <th>Gas</th>\n      <th>Humidity</th>\n      <th>Pressure</th>\n      <th>Altitude</th>\n    </tr>\n  </thead>\n  <tbody>\n    <tr>\n      <th>0</th>\n      <td>2021-01-12 19:00:00</td>\n      <td>20.673344</td>\n      <td>355355.546198</td>\n      <td>40.131398</td>\n      <td>984.801881</td>\n      <td>240.378577</td>\n    </tr>\n    <tr>\n      <th>1</th>\n      <td>2021-01-12 20:00:00</td>\n      <td>19.789287</td>\n      <td>541956.520300</td>\n      <td>40.835244</td>\n      <td>984.766667</td>\n      <td>239.895394</td>\n    </tr>\n    <tr>\n      <th>2</th>\n      <td>2021-01-12 21:00:00</td>\n      <td>19.545680</td>\n      <td>579178.531633</td>\n      <td>40.634626</td>\n      <td>984.751667</td>\n      <td>239.959150</td>\n    </tr>\n    <tr>\n      <th>3</th>\n      <td>2021-01-12 22:00:00</td>\n      <td>19.219509</td>\n      <td>577062.787176</td>\n      <td>40.569236</td>\n      <td>984.820396</td>\n      <td>239.426194</td>\n    </tr>\n    <tr>\n      <th>4</th>\n      <td>2021-01-12 23:00:00</td>\n      <td>19.012534</td>\n      <td>578171.792575</td>\n      <td>39.787807</td>\n      <td>984.439782</td>\n      <td>242.660082</td>\n    </tr>\n  </tbody>\n</table>\n</div>"
     },
     "execution_count": 5,
     "metadata": {},
     "output_type": "execute_result"
    }
   ],
   "source": [
    "#-----------------------------------------------------------------------------------------------------------------------\n",
    "# Reading data from sqlite\n",
    "#-----------------------------------------------------------------------------------------------------------------------\n",
    "import sqlite3\n",
    "import pandas as pd\n",
    "\n",
    "# #Establishing connection with sqlite database\n",
    "conn = sqlite3.connect('../Sensors.db')\n",
    "curs = conn.cursor()\n",
    "\n",
    "df = pd.read_sql_query(\"SELECT * FROM BME_DATA\", conn)\n",
    "df.drop('id', axis=1, inplace=True)\n",
    "df.rename(columns={'TIME_STAMP': 'TimeStamp',\n",
    "                   'TEMPERATURE': 'Temperature',\n",
    "                   'GAS':'Gas',\n",
    "                   'HUMIDITY':'Humidity',\n",
    "                   'PRESSURE':'Pressure',\n",
    "                   'ALTITUDE':'Altitude'\n",
    "                   }, inplace=True)\n",
    "df.head()\n",
    "\n",
    "df['TimeStamp'] = pd.to_datetime(df['TimeStamp'], format='%Y-%m-%d %H:%M:%S.%f')\n",
    "df = df.resample('H', on='TimeStamp').agg({'Temperature':'mean', 'Gas':'mean','Humidity':'mean','Pressure':'mean','Altitude':'mean'})\n",
    "df.reset_index(inplace = True)\n",
    "df.head()"
   ]
  },
  {
   "cell_type": "code",
   "execution_count": 6,
   "outputs": [
    {
     "name": "stderr",
     "output_type": "stream",
     "text": [
      "c:\\users\\slavo\\pycharmprojects\\jetsonnano_development\\venv\\lib\\site-packages\\pandas\\io\\sql.py:1685: UserWarning: The provided table name 'SensorData' is not found exactly as such in the database after writing the table, possibly due to case sensitivity issues. Consider using lower case table names.\n",
      "  warnings.warn(msg, UserWarning)\n"
     ]
    }
   ],
   "source": [
    "#-----------------------------------------------------------------------------------------------------------------------\n",
    "# Pushing data into Auzre mysql\n",
    "#-----------------------------------------------------------------------------------------------------------------------\n",
    "# Importing Dependencies\n",
    "import mysql.connector\n",
    "import pandas as pd\n",
    "import json\n",
    "import sqlalchemy\n",
    "from sqlalchemy import create_engine, MetaData, Table\n",
    "from mysql.connector import Error\n",
    "\n",
    "with open(\"../parameters/config.json\") as config:\n",
    "    param = json.load(config)\n",
    "\n",
    "# Connecting to data warehouse\n",
    "try:\n",
    "    engine = sqlalchemy.create_engine('mysql+mysqlconnector://{0}:{1}@{2}/{3}'.\n",
    "                                      format(param['MyDemoServer'][0]['user'],\n",
    "                                             param['MyDemoServer'][0]['password'],\n",
    "                                             param['MyDemoServer'][0]['host'],\n",
    "                                             param['MyDemoServer'][0]['database']), echo=False)\n",
    "\n",
    "    # Cleaning the data from existing tables MetricValues and Metrics\n",
    "    Epi_con = engine.connect()\n",
    "    if Epi_con.connect():\n",
    "        try:\n",
    "            #Epi_con.execute(\"\"\"TRUNCATE TABLE Sessions\"\"\")\n",
    "            df.to_sql('sensordata', con=Epi_con, if_exists='append',chunksize=1000, index=False)\n",
    "            Epi_con.close()\n",
    "            engine.dispose()\n",
    "        except OSError as e:\n",
    "            print(e)\n",
    "except OSError as e:\n",
    "    print(e)\n"
   ],
   "metadata": {
    "collapsed": false,
    "pycharm": {
     "name": "#%%\n"
    }
   }
  }
 ],
 "metadata": {
  "kernelspec": {
   "display_name": "Python 3",
   "language": "python",
   "name": "python3"
  },
  "language_info": {
   "codemirror_mode": {
    "name": "ipython",
    "version": 2
   },
   "file_extension": ".py",
   "mimetype": "text/x-python",
   "name": "python",
   "nbconvert_exporter": "python",
   "pygments_lexer": "ipython2",
   "version": "2.7.6"
  }
 },
 "nbformat": 4,
 "nbformat_minor": 0
}